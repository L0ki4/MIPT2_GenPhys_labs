{
 "cells": [
  {
   "cell_type": "code",
   "execution_count": 1,
   "metadata": {
    "collapsed": false
   },
   "outputs": [
    {
     "name": "stdout",
     "output_type": "stream",
     "text": [
      "Using matplotlib backend: Qt5Agg\n",
      "Populating the interactive namespace from numpy and matplotlib\n"
     ]
    }
   ],
   "source": [
    "%pylab\n",
    "%matplotlib inline"
   ]
  },
  {
   "cell_type": "code",
   "execution_count": 2,
   "metadata": {
    "collapsed": false
   },
   "outputs": [],
   "source": [
    "import pandas as pd\n",
    "Q = pd.read_csv('rates.tsv', engine='python', sep='\\s\\s+')\n",
    "Q['$Q_i,~\\l/\\s$'] = 5 * Q['$N,~\\\\rev$']/Q['$\\\\tau,~\\s$']"
   ]
  },
  {
   "cell_type": "code",
   "execution_count": 3,
   "metadata": {
    "collapsed": false,
    "scrolled": true
   },
   "outputs": [
    {
     "data": {
      "text/html": [
       "<div>\n",
       "<table border=\"1\" class=\"dataframe\">\n",
       "  <thead>\n",
       "    <tr style=\"text-align: right;\">\n",
       "      <th></th>\n",
       "      <th>$N,~\\rev$</th>\n",
       "      <th>$\\tau,~\\s$</th>\n",
       "      <th>$Q_i,~\\l/\\s$</th>\n",
       "    </tr>\n",
       "  </thead>\n",
       "  <tbody>\n",
       "    <tr>\n",
       "      <th>0</th>\n",
       "      <td>3</td>\n",
       "      <td>165</td>\n",
       "      <td>0.090909</td>\n",
       "    </tr>\n",
       "    <tr>\n",
       "      <th>1</th>\n",
       "      <td>1</td>\n",
       "      <td>130</td>\n",
       "      <td>0.038462</td>\n",
       "    </tr>\n",
       "    <tr>\n",
       "      <th>2</th>\n",
       "      <td>2</td>\n",
       "      <td>133</td>\n",
       "      <td>0.075188</td>\n",
       "    </tr>\n",
       "  </tbody>\n",
       "</table>\n",
       "</div>"
      ],
      "text/plain": [
       "   $N,~\\rev$  $\\tau,~\\s$  $Q_i,~\\l/\\s$\n",
       "0          3         165      0.090909\n",
       "1          1         130      0.038462\n",
       "2          2         133      0.075188"
      ]
     },
     "execution_count": 3,
     "metadata": {},
     "output_type": "execute_result"
    }
   ],
   "source": [
    "Q"
   ]
  },
  {
   "cell_type": "code",
   "execution_count": 4,
   "metadata": {
    "collapsed": true
   },
   "outputs": [],
   "source": [
    "data = pd.read_csv('opdata.tsv', engine='python', sep='\\s\\s+')\n",
    "\n",
    "data['$W,~\\m\\W$'] = data['$I,~\\m\\A$'] * data['$U,~\\V$']\n",
    "data['$\\Delta T,~\\CC$'] = data['$\\mathscr{E},~\\mk\\V$']/42.3\n",
    "data['$Q_i,~\\l/\\s$'] = data.apply(lambda row: Q.as_matrix()[int(row['$i$'])-1,2], axis=1)\n",
    "data['$\\\\frac{W}{\\Delta T},~\\m\\W/\\CC$'] = data['$W,~\\m\\W$']/data['$\\Delta T,~\\CC$']"
   ]
  },
  {
   "cell_type": "code",
   "execution_count": 5,
   "metadata": {
    "collapsed": false
   },
   "outputs": [
    {
     "data": {
      "text/plain": [
       "[<matplotlib.lines.Line2D at 0x7fc0794d95f8>]"
      ]
     },
     "execution_count": 5,
     "metadata": {},
     "output_type": "execute_result"
    },
    {
     "data": {
      "image/png": "[encoded data removed]",
      "text/plain": [
       "<matplotlib.figure.Figure at 0x7fc06c120400>"
      ]
     },
     "metadata": {},
     "output_type": "display_data"
    }
   ],
   "source": [
    "plt.plot(data['$Q_i,~\\l/\\s$'], data['$\\\\frac{W}{\\Delta T},~\\m\\W/\\CC$'], 'o')"
   ]
  },
  {
   "cell_type": "code",
   "execution_count": 6,
   "metadata": {
    "collapsed": false
   },
   "outputs": [
    {
     "data": {
      "text/html": [
       "<div>\n",
       "<table border=\"1\" class=\"dataframe\">\n",
       "  <thead>\n",
       "    <tr style=\"text-align: right;\">\n",
       "      <th></th>\n",
       "      <th>$i$</th>\n",
       "      <th>$I,~\\m\\A$</th>\n",
       "      <th>$U,~\\V$</th>\n",
       "      <th>$\\mathscr{E},~\\mk\\V$</th>\n",
       "      <th>$W,~\\m\\W$</th>\n",
       "      <th>$\\Delta T,~\\CC$</th>\n",
       "      <th>$Q_i,~\\l/\\s$</th>\n",
       "      <th>$\\frac{W}{\\Delta T},~\\m\\W/\\CC$</th>\n",
       "    </tr>\n",
       "  </thead>\n",
       "  <tbody>\n",
       "    <tr>\n",
       "      <th>0</th>\n",
       "      <td>1</td>\n",
       "      <td>77.17</td>\n",
       "      <td>2.682</td>\n",
       "      <td>72</td>\n",
       "      <td>206.96994</td>\n",
       "      <td>1.702128</td>\n",
       "      <td>0.090909</td>\n",
       "      <td>121.594840</td>\n",
       "    </tr>\n",
       "    <tr>\n",
       "      <th>1</th>\n",
       "      <td>1</td>\n",
       "      <td>99.83</td>\n",
       "      <td>3.470</td>\n",
       "      <td>103</td>\n",
       "      <td>346.41010</td>\n",
       "      <td>2.434988</td>\n",
       "      <td>0.090909</td>\n",
       "      <td>142.263565</td>\n",
       "    </tr>\n",
       "    <tr>\n",
       "      <th>2</th>\n",
       "      <td>1</td>\n",
       "      <td>123.14</td>\n",
       "      <td>4.282</td>\n",
       "      <td>149</td>\n",
       "      <td>527.28548</td>\n",
       "      <td>3.522459</td>\n",
       "      <td>0.090909</td>\n",
       "      <td>149.692455</td>\n",
       "    </tr>\n",
       "    <tr>\n",
       "      <th>3</th>\n",
       "      <td>1</td>\n",
       "      <td>141.25</td>\n",
       "      <td>4.914</td>\n",
       "      <td>200</td>\n",
       "      <td>694.10250</td>\n",
       "      <td>4.728132</td>\n",
       "      <td>0.090909</td>\n",
       "      <td>146.802679</td>\n",
       "    </tr>\n",
       "    <tr>\n",
       "      <th>4</th>\n",
       "      <td>1</td>\n",
       "      <td>160.09</td>\n",
       "      <td>5.571</td>\n",
       "      <td>263</td>\n",
       "      <td>891.86139</td>\n",
       "      <td>6.217494</td>\n",
       "      <td>0.090909</td>\n",
       "      <td>143.443866</td>\n",
       "    </tr>\n",
       "    <tr>\n",
       "      <th>5</th>\n",
       "      <td>1</td>\n",
       "      <td>177.02</td>\n",
       "      <td>6.163</td>\n",
       "      <td>322</td>\n",
       "      <td>1090.97426</td>\n",
       "      <td>7.612293</td>\n",
       "      <td>0.090909</td>\n",
       "      <td>143.317426</td>\n",
       "    </tr>\n",
       "    <tr>\n",
       "      <th>6</th>\n",
       "      <td>1</td>\n",
       "      <td>183.83</td>\n",
       "      <td>6.401</td>\n",
       "      <td>354</td>\n",
       "      <td>1176.69583</td>\n",
       "      <td>8.368794</td>\n",
       "      <td>0.090909</td>\n",
       "      <td>140.605180</td>\n",
       "    </tr>\n",
       "    <tr>\n",
       "      <th>7</th>\n",
       "      <td>2</td>\n",
       "      <td>49.23</td>\n",
       "      <td>1.714</td>\n",
       "      <td>52</td>\n",
       "      <td>84.38022</td>\n",
       "      <td>1.229314</td>\n",
       "      <td>0.038462</td>\n",
       "      <td>68.640064</td>\n",
       "    </tr>\n",
       "    <tr>\n",
       "      <th>8</th>\n",
       "      <td>2</td>\n",
       "      <td>80.01</td>\n",
       "      <td>2.788</td>\n",
       "      <td>126</td>\n",
       "      <td>223.06788</td>\n",
       "      <td>2.978723</td>\n",
       "      <td>0.038462</td>\n",
       "      <td>74.887074</td>\n",
       "    </tr>\n",
       "    <tr>\n",
       "      <th>9</th>\n",
       "      <td>2</td>\n",
       "      <td>99.19</td>\n",
       "      <td>3.457</td>\n",
       "      <td>192</td>\n",
       "      <td>342.89983</td>\n",
       "      <td>4.539007</td>\n",
       "      <td>0.038462</td>\n",
       "      <td>75.545119</td>\n",
       "    </tr>\n",
       "    <tr>\n",
       "      <th>10</th>\n",
       "      <td>2</td>\n",
       "      <td>112.75</td>\n",
       "      <td>3.931</td>\n",
       "      <td>253</td>\n",
       "      <td>443.22025</td>\n",
       "      <td>5.981087</td>\n",
       "      <td>0.038462</td>\n",
       "      <td>74.103623</td>\n",
       "    </tr>\n",
       "    <tr>\n",
       "      <th>11</th>\n",
       "      <td>2</td>\n",
       "      <td>124.49</td>\n",
       "      <td>4.342</td>\n",
       "      <td>322</td>\n",
       "      <td>540.53558</td>\n",
       "      <td>7.612293</td>\n",
       "      <td>0.038462</td>\n",
       "      <td>71.008245</td>\n",
       "    </tr>\n",
       "    <tr>\n",
       "      <th>12</th>\n",
       "      <td>2</td>\n",
       "      <td>131.72</td>\n",
       "      <td>4.594</td>\n",
       "      <td>364</td>\n",
       "      <td>605.12168</td>\n",
       "      <td>8.605201</td>\n",
       "      <td>0.038462</td>\n",
       "      <td>70.320459</td>\n",
       "    </tr>\n",
       "    <tr>\n",
       "      <th>13</th>\n",
       "      <td>2</td>\n",
       "      <td>138.06</td>\n",
       "      <td>4.817</td>\n",
       "      <td>412</td>\n",
       "      <td>665.03502</td>\n",
       "      <td>9.739953</td>\n",
       "      <td>0.038462</td>\n",
       "      <td>68.279081</td>\n",
       "    </tr>\n",
       "    <tr>\n",
       "      <th>14</th>\n",
       "      <td>3</td>\n",
       "      <td>78.72</td>\n",
       "      <td>2.736</td>\n",
       "      <td>77</td>\n",
       "      <td>215.37792</td>\n",
       "      <td>1.820331</td>\n",
       "      <td>0.075188</td>\n",
       "      <td>118.318000</td>\n",
       "    </tr>\n",
       "    <tr>\n",
       "      <th>15</th>\n",
       "      <td>3</td>\n",
       "      <td>94.66</td>\n",
       "      <td>3.291</td>\n",
       "      <td>107</td>\n",
       "      <td>311.52606</td>\n",
       "      <td>2.529551</td>\n",
       "      <td>0.075188</td>\n",
       "      <td>123.154695</td>\n",
       "    </tr>\n",
       "    <tr>\n",
       "      <th>16</th>\n",
       "      <td>3</td>\n",
       "      <td>110.19</td>\n",
       "      <td>3.832</td>\n",
       "      <td>145</td>\n",
       "      <td>422.24808</td>\n",
       "      <td>3.427896</td>\n",
       "      <td>0.075188</td>\n",
       "      <td>123.179957</td>\n",
       "    </tr>\n",
       "    <tr>\n",
       "      <th>17</th>\n",
       "      <td>3</td>\n",
       "      <td>120.73</td>\n",
       "      <td>4.200</td>\n",
       "      <td>176</td>\n",
       "      <td>507.06600</td>\n",
       "      <td>4.160757</td>\n",
       "      <td>0.075188</td>\n",
       "      <td>121.868703</td>\n",
       "    </tr>\n",
       "    <tr>\n",
       "      <th>18</th>\n",
       "      <td>3</td>\n",
       "      <td>133.74</td>\n",
       "      <td>4.653</td>\n",
       "      <td>214</td>\n",
       "      <td>622.29222</td>\n",
       "      <td>5.059102</td>\n",
       "      <td>0.075188</td>\n",
       "      <td>123.004490</td>\n",
       "    </tr>\n",
       "    <tr>\n",
       "      <th>19</th>\n",
       "      <td>3</td>\n",
       "      <td>147.03</td>\n",
       "      <td>5.117</td>\n",
       "      <td>260</td>\n",
       "      <td>752.35251</td>\n",
       "      <td>6.146572</td>\n",
       "      <td>0.075188</td>\n",
       "      <td>122.401966</td>\n",
       "    </tr>\n",
       "    <tr>\n",
       "      <th>20</th>\n",
       "      <td>3</td>\n",
       "      <td>160.87</td>\n",
       "      <td>5.601</td>\n",
       "      <td>314</td>\n",
       "      <td>901.03287</td>\n",
       "      <td>7.423168</td>\n",
       "      <td>0.075188</td>\n",
       "      <td>121.381180</td>\n",
       "    </tr>\n",
       "    <tr>\n",
       "      <th>21</th>\n",
       "      <td>3</td>\n",
       "      <td>173.63</td>\n",
       "      <td>6.047</td>\n",
       "      <td>363</td>\n",
       "      <td>1049.94061</td>\n",
       "      <td>8.581560</td>\n",
       "      <td>0.075188</td>\n",
       "      <td>122.348451</td>\n",
       "    </tr>\n",
       "  </tbody>\n",
       "</table>\n",
       "</div>"
      ],
      "text/plain": [
       "    $i$  $I,~\\m\\A$  $U,~\\V$  $\\mathscr{E},~\\mk\\V$   $W,~\\m\\W$  \\\n",
       "0     1      77.17    2.682                    72   206.96994   \n",
       "1     1      99.83    3.470                   103   346.41010   \n",
       "2     1     123.14    4.282                   149   527.28548   \n",
       "3     1     141.25    4.914                   200   694.10250   \n",
       "4     1     160.09    5.571                   263   891.86139   \n",
       "5     1     177.02    6.163                   322  1090.97426   \n",
       "6     1     183.83    6.401                   354  1176.69583   \n",
       "7     2      49.23    1.714                    52    84.38022   \n",
       "8     2      80.01    2.788                   126   223.06788   \n",
       "9     2      99.19    3.457                   192   342.89983   \n",
       "10    2     112.75    3.931                   253   443.22025   \n",
       "11    2     124.49    4.342                   322   540.53558   \n",
       "12    2     131.72    4.594                   364   605.12168   \n",
       "13    2     138.06    4.817                   412   665.03502   \n",
       "14    3      78.72    2.736                    77   215.37792   \n",
       "15    3      94.66    3.291                   107   311.52606   \n",
       "16    3     110.19    3.832                   145   422.24808   \n",
       "17    3     120.73    4.200                   176   507.06600   \n",
       "18    3     133.74    4.653                   214   622.29222   \n",
       "19    3     147.03    5.117                   260   752.35251   \n",
       "20    3     160.87    5.601                   314   901.03287   \n",
       "21    3     173.63    6.047                   363  1049.94061   \n",
       "\n",
       "    $\\Delta T,~\\CC$  $Q_i,~\\l/\\s$  $\\frac{W}{\\Delta T},~\\m\\W/\\CC$  \n",
       "0          1.702128      0.090909                      121.594840  \n",
       "1          2.434988      0.090909                      142.263565  \n",
       "2          3.522459      0.090909                      149.692455  \n",
       "3          4.728132      0.090909                      146.802679  \n",
       "4          6.217494      0.090909                      143.443866  \n",
       "5          7.612293      0.090909                      143.317426  \n",
       "6          8.368794      0.090909                      140.605180  \n",
       "7          1.229314      0.038462                       68.640064  \n",
       "8          2.978723      0.038462                       74.887074  \n",
       "9          4.539007      0.038462                       75.545119  \n",
       "10         5.981087      0.038462                       74.103623  \n",
       "11         7.612293      0.038462                       71.008245  \n",
       "12         8.605201      0.038462                       70.320459  \n",
       "13         9.739953      0.038462                       68.279081  \n",
       "14         1.820331      0.075188                      118.318000  \n",
       "15         2.529551      0.075188                      123.154695  \n",
       "16         3.427896      0.075188                      123.179957  \n",
       "17         4.160757      0.075188                      121.868703  \n",
       "18         5.059102      0.075188                      123.004490  \n",
       "19         6.146572      0.075188                      122.401966  \n",
       "20         7.423168      0.075188                      121.381180  \n",
       "21         8.581560      0.075188                      122.348451  "
      ]
     },
     "execution_count": 6,
     "metadata": {},
     "output_type": "execute_result"
    }
   ],
   "source": [
    "data"
   ]
  },
  {
   "cell_type": "markdown",
   "metadata": {},
   "source": [
    "[0] failed"
   ]
  },
  {
   "cell_type": "code",
   "execution_count": 7,
   "metadata": {
    "collapsed": false
   },
   "outputs": [
    {
     "data": {
      "text/plain": [
       "LinregressResult(slope=1378.652091568176, intercept=18.67305948593058, rvalue=0.99651195342776733, pvalue=5.8255758153484529e-22, stderr=26.486371478989028)"
      ]
     },
     "execution_count": 7,
     "metadata": {},
     "output_type": "execute_result"
    }
   ],
   "source": [
    "from scipy import stats\n",
    "stats.linregress(data['$Q_i,~\\l/\\s$'][1:], data['$\\\\frac{W}{\\Delta T},~\\m\\W/\\CC$'][1:])"
   ]
  },
  {
   "cell_type": "code",
   "execution_count": 8,
   "metadata": {
    "collapsed": false
   },
   "outputs": [],
   "source": [
    "with open('opdata.proc.tex', 'w') as output:\n",
    "    output.write(data.to_latex(index=False, escape=False).replace('rrrrrrrr', 'cccc|cccc'))\n",
    "with open('rates.proc.tex', 'w') as output:\n",
    "    output.write(Q.to_latex(index=False, escape=False).replace('rrr', 'cc|c'))\n",
    "with open('plot.proc.csv', 'w') as output:\n",
    "    output.write(data[['$Q_i,~\\l/\\s$', '$\\\\frac{W}{\\Delta T},~\\m\\W/\\CC$']].to_csv(index=False, header=False))"
   ]
  }
 ],
 "metadata": {
  "kernelspec": {
   "display_name": "Python 3",
   "language": "python",
   "name": "python3"
  },
  "language_info": {
   "codemirror_mode": {
    "name": "ipython",
    "version": 3
   },
   "file_extension": ".py",
   "mimetype": "text/x-python",
   "name": "python",
   "nbconvert_exporter": "python",
   "pygments_lexer": "ipython3",
   "version": "3.6.0"
  }
 },
 "nbformat": 4,
 "nbformat_minor": 2
}
