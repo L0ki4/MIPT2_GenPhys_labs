{
 "cells": [
  {
   "cell_type": "code",
   "execution_count": 3,
   "metadata": {
    "collapsed": false
   },
   "outputs": [
    {
     "data": {
      "text/plain": [
       "list"
      ]
     },
     "execution_count": 3,
     "metadata": {},
     "output_type": "execute_result"
    }
   ],
   "source": [
    "a=[1,2]\n",
    "b=[1,2]"
   ]
  },
  {
   "cell_type": "code",
   "execution_count": 1,
   "metadata": {
    "collapsed": false
   },
   "outputs": [
    {
     "data": {
      "text/plain": [
       "3"
      ]
     },
     "execution_count": 1,
     "metadata": {},
     "output_type": "execute_result"
    }
   ],
   "source": [
    "1+2"
   ]
  },
  {
   "cell_type": "code",
   "execution_count": 104,
   "metadata": {
    "collapsed": false
   },
   "outputs": [
    {
     "name": "stdout",
     "output_type": "stream",
     "text": [
      "['0.00', '255.0', '0.000  '] \n",
      "\n",
      "['20.74', '248.5', '0.030 '] \n",
      "\n",
      "['41.48', '244.5', '0.050 '] \n",
      "\n",
      "['62.22', '239.5', '0.074 '] \n",
      "\n",
      "['82.95', '236.1', '0.091 '] \n",
      "\n",
      "['103.69', '231.5', '0.114'] \n",
      "\n",
      "['124.43', '228.5', '0.130'] \n",
      "\n",
      "['145.17', '224.5', '0.151'] \n",
      "\n",
      "['165.91', '221.5', '0.167'] \n",
      "\n",
      "['186.65', '217.5', '0.189'] \n",
      "\n",
      "['207.39', '215.5', '0.206'] \n",
      "\n",
      "['228.13', '211.5', '0.223'] \n",
      "\n",
      "['248.87', '207.5', '0.246'] \n",
      "\n",
      "['269.61', '204.5', '0.264'] \n",
      "\n",
      "['290.35', '201.5', '0.282'] \n",
      "\n",
      "['311.09', '198.5', '0.301'] \n",
      "\n",
      "['331.82', '196.2', '0.315'] \n",
      "\n",
      "['352.56', '193.5', '0.333'] \n",
      "\n",
      "['373.30', '190.5', '0.352'] \n",
      "\n",
      "['394.04', '187.5', '0.372'] \n",
      "\n",
      "['000.00', '184.5', '0.000'] \n",
      "\n",
      "['435.52', '182.5', '0.405'] \n",
      "\n",
      "x:  ['0.00', '20.74', '41.48', '62.22', '82.95', '103.69', '124.43', '145.17', '165.91', '186.65', '207.39', '228.13', '248.87', '269.61', '290.35', '311.09', '331.82', '352.56', '373.30', '394.04', '000.00', '435.52'] \n",
      "\n",
      "y:  ['0.000  ', '0.030 ', '0.050 ', '0.074 ', '0.091 ', '0.114', '0.130', '0.151', '0.167', '0.189', '0.206', '0.223', '0.246', '0.264', '0.282', '0.301', '0.315', '0.333', '0.352', '0.372', '0.000', '0.405'] \n",
      "\n",
      "посчитаем средний x*y = c\n",
      "средний x^2 = d\n",
      "средний y*2 = e\n",
      "c =  57.4074771429 \n",
      "\n",
      "d =  59620.8040952 \n",
      "\n",
      "e =  0.055352047619 \n",
      "\n",
      "k =  0.000962876600107 \n",
      "\n"
     ]
    }
   ],
   "source": [
    "file = open('lab 2.2.1_300.txt', 'r')\n",
    "a = list(file)\n",
    "b= range(22)\n",
    "x = range(22)\n",
    "y = range(22)\n",
    "for i in range(22):\n",
    "    a[i] = a[i][2:24]\n",
    "    b[i] = a[i].split(' & ') \n",
    "    print b[i],'\\n'\n",
    "    del b[i][1]\n",
    "\n",
    "for i in range(22):\n",
    "    x[i] = b[i][0]\n",
    "    y[i] = b[i][1]\n",
    "    \n",
    "print 'x: ', x,'\\n'\n",
    "print 'y: ', y,'\\n'\n",
    "\n",
    "print 'посчитаем средний x*y = c\\nсредний x^2 = d\\nсредний y*2 = e'\n",
    "c = 0\n",
    "d = 0 \n",
    "e = 0\n",
    "count = 1\n",
    "for i in range(22):\n",
    "    c = c + float(x[i]) * float(y[i])\n",
    "    d = d + float(x[i]) ** 2\n",
    "    e = e + float(y[i]) ** 2\n",
    "print 'c = ', c / 21, '\\n'\n",
    "print 'd = ', d / 21, '\\n'\n",
    "print 'e = ', e / 21, '\\n'\n",
    "\n",
    "print 'k = ',c / d,'\\n' \n",
    "\n",
    "\n"
   ]
  },
  {
   "cell_type": "code",
   "execution_count": null,
   "metadata": {
    "collapsed": true
   },
   "outputs": [],
   "source": []
  },
  {
   "cell_type": "code",
   "execution_count": null,
   "metadata": {
    "collapsed": true
   },
   "outputs": [],
   "source": []
  },
  {
   "cell_type": "code",
   "execution_count": null,
   "metadata": {
    "collapsed": true
   },
   "outputs": [],
   "source": []
  },
  {
   "cell_type": "code",
   "execution_count": null,
   "metadata": {
    "collapsed": true
   },
   "outputs": [],
   "source": []
  },
  {
   "cell_type": "code",
   "execution_count": null,
   "metadata": {
    "collapsed": true
   },
   "outputs": [],
   "source": []
  },
  {
   "cell_type": "code",
   "execution_count": 2,
   "metadata": {
    "collapsed": true
   },
   "outputs": [],
   "source": [
    "?type"
   ]
  },
  {
   "cell_type": "code",
   "execution_count": null,
   "metadata": {
    "collapsed": true
   },
   "outputs": [],
   "source": []
  }
 ],
 "metadata": {
  "kernelspec": {
   "display_name": "Python 2",
   "language": "python",
   "name": "python2"
  },
  "language_info": {
   "codemirror_mode": {
    "name": "ipython",
    "version": 2
   },
   "file_extension": ".py",
   "mimetype": "text/x-python",
   "name": "python",
   "nbconvert_exporter": "python",
   "pygments_lexer": "ipython2",
   "version": "2.7.13"
  }
 },
 "nbformat": 4,
 "nbformat_minor": 2
}
